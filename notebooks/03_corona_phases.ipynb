{
 "cells": [
  {
   "cell_type": "code",
   "execution_count": 2,
   "id": "98173275",
   "metadata": {},
   "outputs": [
    {
     "name": "stdout",
     "output_type": "stream",
     "text": [
      "                 Phase      Start        End  \\\n",
      "0            Pre-Covid 2018-07-01 2020-03-13   \n",
      "1                 Stop 2020-03-14 2020-05-15   \n",
      "2   GhostGames_2019_20 2020-05-16 2020-06-27   \n",
      "3   GhostGames_2020_21 2020-09-18 2021-05-22   \n",
      "4  PartialFans_2021_22 2021-08-13 2022-05-14   \n",
      "5           Post-Covid 2022-07-01 2025-06-30   \n",
      "\n",
      "                                         Description  \n",
      "0          \"Normal competition with full attendance\"  \n",
      "1           \"League suspended due to first lockdown\"  \n",
      "2               \"End of 2019/20 season without fans\"  \n",
      "3  \"Entire 2020/21 season without fans (rare exce...  \n",
      "4  \"2021/22 season with limited or regionally res...  \n",
      "5                \"Full stadiums, normal competition\"  \n"
     ]
    }
   ],
   "source": [
    "import pandas as pd\n",
    "\n",
    "phases = pd.read_csv(\n",
    "    \"../data/corona_phases.csv\",   # ein Ordner nach oben, dann data/\n",
    "    sep=\";\",                      \n",
    "    parse_dates=[\"Start\",\"End\"],  \n",
    "    dayfirst=True                 \n",
    ")\n",
    "\n",
    "print(phases)\n"
   ]
  }
 ],
 "metadata": {
  "kernelspec": {
   "display_name": "mini-projekt",
   "language": "python",
   "name": "python3"
  },
  "language_info": {
   "codemirror_mode": {
    "name": "ipython",
    "version": 3
   },
   "file_extension": ".py",
   "mimetype": "text/x-python",
   "name": "python",
   "nbconvert_exporter": "python",
   "pygments_lexer": "ipython3",
   "version": "3.11.13"
  }
 },
 "nbformat": 4,
 "nbformat_minor": 5
}
